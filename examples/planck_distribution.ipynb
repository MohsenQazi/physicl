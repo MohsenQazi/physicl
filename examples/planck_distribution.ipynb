{
 "cells": [
  {
   "cell_type": "code",
   "execution_count": 1,
   "metadata": {},
   "outputs": [
    {
     "ename": "ModuleNotFoundError",
     "evalue": "No module named 'phys'",
     "output_type": "error",
     "traceback": [
      "\u001b[1;31m---------------------------------------------------------------------------\u001b[0m",
      "\u001b[1;31mModuleNotFoundError\u001b[0m                       Traceback (most recent call last)",
      "\u001b[1;32m<ipython-input-1-2d2bdc35ee4a>\u001b[0m in \u001b[0;36m<module>\u001b[1;34m\u001b[0m\n\u001b[1;32m----> 1\u001b[1;33m \u001b[1;32mimport\u001b[0m \u001b[0mphys\u001b[0m\u001b[1;33m.\u001b[0m\u001b[0mlight\u001b[0m\u001b[1;33m\u001b[0m\u001b[1;33m\u001b[0m\u001b[0m\n\u001b[0m\u001b[0;32m      2\u001b[0m \u001b[1;32mimport\u001b[0m \u001b[0mnumpy\u001b[0m \u001b[1;32mas\u001b[0m \u001b[0mnp\u001b[0m\u001b[1;33m\u001b[0m\u001b[1;33m\u001b[0m\u001b[0m\n\u001b[0;32m      3\u001b[0m \u001b[1;32mimport\u001b[0m \u001b[0mmatplotlib\u001b[0m\u001b[1;33m.\u001b[0m\u001b[0mpyplot\u001b[0m \u001b[1;32mas\u001b[0m \u001b[0mplt\u001b[0m\u001b[1;33m\u001b[0m\u001b[1;33m\u001b[0m\u001b[0m\n\u001b[0;32m      4\u001b[0m \u001b[1;33m\u001b[0m\u001b[0m\n\u001b[0;32m      5\u001b[0m \u001b[0mT\u001b[0m \u001b[1;33m=\u001b[0m \u001b[1;36m2000\u001b[0m\u001b[1;33m\u001b[0m\u001b[1;33m\u001b[0m\u001b[0m\n",
      "\u001b[1;31mModuleNotFoundError\u001b[0m: No module named 'phys'"
     ]
    }
   ],
   "source": [
    "import phys.light\n",
    "import numpy as np\n",
    "import matplotlib.pyplot as plt\n",
    "\n",
    "T = 2000\n",
    "Eg = np.linspace(phys.light.E_from_wavelength(500000e-9), phys.light.E_from_wavelength(500e-9), 10000)\n",
    "gamma = phys.light.planck_distribution(Eg, T)"
   ]
  },
  {
   "cell_type": "code",
   "execution_count": null,
   "metadata": {},
   "outputs": [],
   "source": [
    "plt.plot(Eg, gamma)\n",
    "plt.xlabel(\"E\")\n",
    "plt.ylabel(\"$\\zeta(E)$\")\n",
    "plt.show()"
   ]
  },
  {
   "cell_type": "code",
   "execution_count": null,
   "metadata": {},
   "outputs": [],
   "source": [
    "E = [phys.light.planck_phot_distribution(phys.light.E_from_wavelength(500000e-9), phys.light.E_from_wavelength(100e-9), T, bins=50000) for x in range(10000)]\n",
    "phot = phys.light.generate_photons_from_E(E)"
   ]
  },
  {
   "cell_type": "code",
   "execution_count": null,
   "metadata": {},
   "outputs": [],
   "source": [
    "plt.hist(E, 100)\n",
    "plt.xlabel(\"$E_\\gamma$\")\n",
    "plt.ylabel(\"$N_\\gamma$\")\n",
    "plt.title(\"Frequency of Photons with Energy \")\n",
    "plt.show()"
   ]
  },
  {
   "cell_type": "code",
   "execution_count": null,
   "metadata": {},
   "outputs": [],
   "source": [
    "import phys\n",
    "import phys.newton\n",
    "sim = phys.Simulation({\"cl_on\": True, \"exit\": lambda cond: cond.t >= 0.200})\n",
    "sim.add_objs(phot)\n",
    "sim.add_step(0, phys.UpdateTimeStep(lambda x: 0.0005))\n",
    "sim.add_step(1, phys.newton.NewtonianKinematicsStep())\n",
    "sim.add_step(2, phys.light.ScatterSphericalStep(0.00000000000001, 0.000000000000005, wavelength_dep_scattering=True))\n",
    "sim.add_step(3, phys.light.TracePathMeasureStep(None, id_info_fn = lambda x: str(x.E), trace_dv = True))\n",
    "sim.add_step(4, phys.light.ScatterMeasureStep(None, measure_n = True, measure_locs = [[x * (phys.light.c) * 0.0005 * 50, 0, 0] for x in range(1, 5)], measure_E = True))"
   ]
  },
  {
   "cell_type": "code",
   "execution_count": null,
   "metadata": {},
   "outputs": [],
   "source": [
    "import time\n",
    "sim.start()\n",
    "\n",
    "while sim.running:\n",
    "    time.sleep(5)\n",
    "    print(sim.get_state())"
   ]
  },
  {
   "cell_type": "code",
   "execution_count": null,
   "metadata": {},
   "outputs": [],
   "source": [
    "xy = []\n",
    "for z in sim.steps[3].data[1:]:\n",
    "    r = [np.double(z[0])] * z[1]\n",
    "    xy.extend(r)\n",
    "x = [np.double(z[0]) for z in sim.steps[3].data[1:]]\n",
    "y = [np.double(z[1]) for z in sim.steps[3].data[1:]]\n",
    "plt.hist(xy, 75)\n",
    "plt.xlabel(\"$E$ (J)\")\n",
    "plt.ylabel(\"Frequency of Scattering\")\n",
    "plt.title(\"Frequency of Scattering as a Result of $\\lambda$\")\n",
    "plt.show()"
   ]
  },
  {
   "cell_type": "code",
   "execution_count": null,
   "metadata": {},
   "outputs": [],
   "source": [
    "for y in range(0, 4): \n",
    "    plt.scatter(range(0, len(sim.steps[4].data)), [len(sim.steps[4].data[x][3 + y * 2]) for x in range(0, len(sim.steps[4].data))])\n",
    "\n",
    "plt.show()"
   ]
  },
  {
   "cell_type": "code",
   "execution_count": null,
   "metadata": {},
   "outputs": [],
   "source": [
    "plt.hist(sim.steps[4].data[49][3], 50)\n",
    "plt.hist(sim.steps[4].data[99][5], 50)\n",
    "plt.hist(sim.steps[4].data[150][7], 50)\n",
    "plt.hist(sim.steps[4].data[200][9], 50)\n",
    "plt.show()"
   ]
  },
  {
   "cell_type": "code",
   "execution_count": null,
   "metadata": {},
   "outputs": [],
   "source": [
    "from matplotlib.animation import FuncAnimation\n",
    "import matplotlib.animation\n",
    "\n",
    "fig = plt.figure()\n",
    "hist = plt.hist([], 100)\n",
    "\n",
    "def update(frame):\n",
    "    plt.cla()\n",
    "    plt.hist(sim.steps[4].data[frame][3], 50, label=\"1st\")\n",
    "    plt.hist(sim.steps[4].data[frame][5], 50, label=\"2nd\")\n",
    "    plt.hist(sim.steps[4].data[frame][7], 50, label=\"3rd\")\n",
    "    plt.hist(sim.steps[4].data[frame][9], 50, label=\"4th\")\n",
    "    plt.xlim(0, 3.5e-19)\n",
    "    plt.ylim(0, 300)\n",
    "    plt.legend()\n",
    "    plt.ylabel(\"Frequency of $E_\\gamma$\")\n",
    "    plt.xlabel(\"$E_\\gamma$\")\n",
    "    plt.title(\"Comparison of Photon Distribution at Given Distances \\n ($n = \" + str(len(E)) + \", t = \" + \"{:.4f}\".format(0.0005 * frame) + \" s$)\")\n",
    "\n",
    "ani = FuncAnimation(fig, update, len(sim.steps[4].data))\n",
    "ani.save(\"out.mp4\", \"ffmpeg\", fps=20, dpi=144)\n",
    "\n",
    "plt.show()"
   ]
  },
  {
   "cell_type": "code",
   "execution_count": null,
   "metadata": {},
   "outputs": [],
   "source": []
  },
  {
   "cell_type": "code",
   "execution_count": null,
   "metadata": {},
   "outputs": [],
   "source": []
  }
 ],
 "metadata": {
  "kernelspec": {
   "display_name": "Python 3",
   "language": "python",
   "name": "python3"
  },
  "language_info": {
   "codemirror_mode": {
    "name": "ipython",
    "version": 3
   },
   "file_extension": ".py",
   "mimetype": "text/x-python",
   "name": "python",
   "nbconvert_exporter": "python",
   "pygments_lexer": "ipython3",
   "version": "3.7.2"
  }
 },
 "nbformat": 4,
 "nbformat_minor": 2
}
