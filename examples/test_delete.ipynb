{
 "cells": [
  {
   "cell_type": "code",
   "execution_count": 7,
   "metadata": {},
   "outputs": [],
   "source": [
    "import sys\n",
    "import os\n",
    "\n",
    "import phys\n",
    "import phys.newton\n",
    "import phys.light\n",
    "import numpy as np\n",
    "import time\n",
    "import matplotlib.pyplot as plt\n",
    "from mpl_toolkits.mplot3d import Axes3D\n",
    "\n",
    "sim = phys.Simulation(params={\"bounds\": np.array([1000, 1000, 1000]), \"cl_on\": True, \"exit\": lambda cond: len(cond.objects) == 0})\n",
    "\n",
    "\n",
    "sim.add_objs(phys.light.generate_photons(1000, bins=100, dist=\"gauss\", min=phys.light.E_from_wavelength(200e-9), max=phys.light.E_from_wavelength(700e-9)))"
   ]
  },
  {
   "cell_type": "markdown",
   "metadata": {},
   "source": [
    "First, we set up a simulation with a given set of bounds, and an exit condition. We also set `cl_on` to `True` to turn on OpenCL.  "
   ]
  },
  {
   "cell_type": "code",
   "execution_count": 8,
   "metadata": {},
   "outputs": [],
   "source": [
    "sim.add_step(0, phys.UpdateTimeStep(lambda s: np.double(0.001)))\n",
    "sim.add_step(1, phys.newton.NewtonianKinematicsStep())\n",
    "n = np.double(0.001)\n",
    "A = np.double(0.001)\n",
    "sim.add_step(2, phys.light.ScatterDeleteStep(n, A))\n",
    "m1 = phys.light.ScatterMeasureStep(None, True, [np.array([1 / (n * A), np.nan, np.nan], dtype=np.double)])\n",
    "sim.add_step(3, m1)"
   ]
  },
  {
   "cell_type": "markdown",
   "metadata": {},
   "source": [
    "We add a series of steps to our simulation, which will run in a loop when the simulation starts. First, we add a step that updates the time with a function that returns a constant. In essence, at each step of the simulation, $\\Delta t = 0.001 s$, and $t \\gets t + \\Delta t$. Then we add a step that will move each object in the simulation according to the laws of Newtonian kinematics (i.e. $x = x_0 + vt$). Finally, we add our `ScatterDeleteStep`, with a given $n_{targ}$ and $A_{targ}$. This will remove a photon with $P(removal) = n_{targ} \\cdot A_{targ}$. Then we use `ScatterMeasureStep` to measure the number of photons remaining in the simulation and the number of photons that have passed through a plane at $x = \\frac{1}{n_{targ} \\cdot A_{targ}}$"
   ]
  },
  {
   "cell_type": "code",
   "execution_count": 9,
   "metadata": {},
   "outputs": [
    {
     "name": "stdout",
     "output_type": "stream",
     "text": [
      "{'objects': 15938, 't': 0.001, 'dt': 0.001, 'run_time': 0.11191749572753906}\n",
      "{'objects': 14689, 't': 0.001, 'dt': 0.001, 'run_time': 0.21883487701416016}\n",
      "{'objects': 13072, 't': 0.001, 'dt': 0.001, 'run_time': 0.32676196098327637}\n",
      "{'objects': 12080, 't': 0.001, 'dt': 0.001, 'run_time': 0.4326796531677246}\n",
      "{'objects': 11217, 't': 0.001, 'dt': 0.001, 'run_time': 0.5615801811218262}\n",
      "{'objects': 10035, 't': 0.002, 'dt': 0.001, 'run_time': 0.6684961318969727}\n",
      "{'objects': 8373, 't': 0.002, 'dt': 0.001, 'run_time': 0.7813990116119385}\n",
      "{'objects': 7893, 't': 0.003, 'dt': 0.001, 'run_time': 0.8883228302001953}\n",
      "{'objects': 5491, 't': 0.003, 'dt': 0.001, 'run_time': 0.9992389678955078}\n",
      "{'objects': 3801, 't': 0.005, 'dt': 0.001, 'run_time': 1.1061437129974365}\n",
      "{'objects': 1291, 't': 0.008, 'dt': 0.001, 'run_time': 1.2160587310791016}\n",
      "{'objects': 0, 't': 0.02900000000000002, 'dt': 0.001, 'run_time': 1.3209772109985352}\n"
     ]
    }
   ],
   "source": [
    "sim.start()\n",
    "\n",
    "while sim.running:\n",
    "        time.sleep(0.1)\n",
    "        print(sim.get_state())"
   ]
  },
  {
   "cell_type": "markdown",
   "metadata": {},
   "source": [
    "Then we start the simulation. It will run in a separate thread and we will print the state of the simulation (given in a dictionary) every 0.1 seconds. This will slow down the simulation significantly, but it will allow us to determine it is working."
   ]
  },
  {
   "cell_type": "code",
   "execution_count": 10,
   "metadata": {},
   "outputs": [
    {
     "data": {
      "image/png": "[encoded data removed]",
      "text/plain": [
       "<Figure size 432x288 with 1 Axes>"
      ]
     },
     "metadata": {
      "needs_background": "light"
     },
     "output_type": "display_data"
    }
   ],
   "source": [
    "plt.plot(sim.ts, [x[1] for x in m1.data], label=\"n\")\n",
    "plt.ylabel(\"Photons\")\n",
    "plt.xlabel(\"Time (s)\")\n",
    "plt.title(\"Photon Count vs. Time (s)\")\n",
    "\n",
    "plt.show()"
   ]
  },
  {
   "cell_type": "markdown",
   "metadata": {},
   "source": [
    "As we can see using matplotlib, the photons appear to follow a rate of natural decay (i.e. $N_\\gamma \\propto e^{-x}$)"
   ]
  }
 ],
 "metadata": {
  "kernelspec": {
   "display_name": "Python 3",
   "language": "python",
   "name": "python3"
  },
  "language_info": {
   "codemirror_mode": {
    "name": "ipython",
    "version": 3
   },
   "file_extension": ".py",
   "mimetype": "text/x-python",
   "name": "python",
   "nbconvert_exporter": "python",
   "pygments_lexer": "ipython3",
   "version": "3.7.2"
  }
 },
 "nbformat": 4,
 "nbformat_minor": 2
}
