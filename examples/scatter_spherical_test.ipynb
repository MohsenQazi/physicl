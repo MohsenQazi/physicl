{
 "cells": [
  {
   "cell_type": "markdown",
   "metadata": {},
   "source": [
    "# Spherical Scattering Example "
   ]
  },
  {
   "cell_type": "code",
   "execution_count": 14,
   "metadata": {},
   "outputs": [
    {
     "name": "stdout",
     "output_type": "stream",
     "text": [
      "{'objects': 15938, 't': 0.001, 'dt': 0.001, 'run_time': 0.11290955543518066}\n",
      "{'objects': 15938, 't': 0.002, 'dt': 0.001, 'run_time': 0.25179123878479004}\n",
      "{'objects': 15938, 't': 0.003, 'dt': 0.001, 'run_time': 0.38169050216674805}\n",
      "{'objects': 15938, 't': 0.004, 'dt': 0.001, 'run_time': 0.48860764503479004}\n",
      "{'objects': 15938, 't': 0.004, 'dt': 0.001, 'run_time': 0.6010968685150146}\n",
      "{'objects': 15938, 't': 0.005, 'dt': 0.001, 'run_time': 0.7489831447601318}\n",
      "{'objects': 15938, 't': 0.006, 'dt': 0.001, 'run_time': 0.856898307800293}\n",
      "{'objects': 15938, 't': 0.007, 'dt': 0.001, 'run_time': 0.9638149738311768}\n",
      "{'objects': 15938, 't': 0.008, 'dt': 0.001, 'run_time': 1.0937137603759766}\n",
      "{'objects': 15938, 't': 0.008, 'dt': 0.001, 'run_time': 1.2066261768341064}\n",
      "{'objects': 15938, 't': 0.009000000000000001, 'dt': 0.001, 'run_time': 1.3365252017974854}\n",
      "{'objects': 15938, 't': 0.010000000000000002, 'dt': 0.001, 'run_time': 1.4434421062469482}\n",
      "{'objects': 15938, 't': 0.011000000000000003, 'dt': 0.001, 'run_time': 1.55635404586792}\n",
      "{'objects': 15938, 't': 0.011000000000000003, 'dt': 0.001, 'run_time': 1.6732637882232666}\n",
      "{'objects': 15938, 't': 0.012000000000000004, 'dt': 0.001, 'run_time': 1.7971687316894531}\n",
      "{'objects': 15938, 't': 0.013000000000000005, 'dt': 0.001, 'run_time': 1.9040851593017578}\n",
      "{'objects': 15938, 't': 0.014000000000000005, 'dt': 0.001, 'run_time': 2.0404844284057617}\n",
      "{'objects': 15938, 't': 0.014000000000000005, 'dt': 0.001, 'run_time': 2.1604037284851074}\n",
      "{'objects': 15938, 't': 0.015000000000000006, 'dt': 0.001, 'run_time': 2.2912890911102295}\n",
      "{'objects': 15938, 't': 0.016000000000000007, 'dt': 0.001, 'run_time': 2.4271838665008545}\n",
      "{'objects': 15938, 't': 0.017000000000000008, 'dt': 0.001, 'run_time': 2.546116828918457}\n",
      "{'objects': 15938, 't': 0.017000000000000008, 'dt': 0.001, 'run_time': 2.653007984161377}\n",
      "{'objects': 15938, 't': 0.01800000000000001, 'dt': 0.001, 'run_time': 2.795898914337158}\n",
      "{'objects': 15938, 't': 0.01900000000000001, 'dt': 0.001, 'run_time': 2.9138054847717285}\n",
      "{'objects': 15938, 't': 0.02000000000000001, 'dt': 0.001, 'run_time': 3.021721363067627}\n",
      "{'objects': 15938, 't': 0.02000000000000001, 'dt': 0.001, 'run_time': 3.12863826751709}\n",
      "{'objects': 15938, 't': 0.02100000000000001, 'dt': 0.001, 'run_time': 3.2535412311553955}\n",
      "{'objects': 15938, 't': 0.022000000000000013, 'dt': 0.001, 'run_time': 3.365467071533203}\n",
      "{'objects': 15938, 't': 0.023000000000000013, 'dt': 0.001, 'run_time': 3.489359140396118}\n",
      "{'objects': 15938, 't': 0.023000000000000013, 'dt': 0.001, 'run_time': 3.6202566623687744}\n",
      "{'objects': 15938, 't': 0.024000000000000014, 'dt': 0.001, 'run_time': 3.739163398742676}\n",
      "{'objects': 15938, 't': 0.025000000000000015, 'dt': 0.001, 'run_time': 3.8510897159576416}\n",
      "{'objects': 15938, 't': 0.026000000000000016, 'dt': 0.001, 'run_time': 3.957993507385254}\n",
      "{'objects': 15938, 't': 0.026000000000000016, 'dt': 0.001, 'run_time': 4.072904348373413}\n",
      "{'objects': 15938, 't': 0.027000000000000017, 'dt': 0.001, 'run_time': 4.179821491241455}\n",
      "{'objects': 15938, 't': 0.028000000000000018, 'dt': 0.001, 'run_time': 4.28673791885376}\n",
      "{'objects': 15938, 't': 0.02900000000000002, 'dt': 0.001, 'run_time': 4.429627180099487}\n",
      "{'objects': 15938, 't': 0.03000000000000002, 'dt': 0.001, 'run_time': 4.559526205062866}\n",
      "{'objects': 15938, 't': 0.03000000000000002, 'dt': 0.001, 'run_time': 4.666443824768066}\n",
      "{'objects': 15938, 't': 0.03100000000000002, 'dt': 0.001, 'run_time': 4.798340320587158}\n",
      "{'objects': 15938, 't': 0.03200000000000002, 'dt': 0.001, 'run_time': 4.905256986618042}\n",
      "{'objects': 15938, 't': 0.03300000000000002, 'dt': 0.001, 'run_time': 5.030160188674927}\n",
      "{'objects': 15938, 't': 0.03300000000000002, 'dt': 0.001, 'run_time': 5.142073154449463}\n",
      "{'objects': 15938, 't': 0.03400000000000002, 'dt': 0.001, 'run_time': 5.244992733001709}\n",
      "{'objects': 15938, 't': 0.035000000000000024, 'dt': 0.001, 'run_time': 5.351909875869751}\n",
      "{'objects': 15938, 't': 0.035000000000000024, 'dt': 0.001, 'run_time': 5.472815752029419}\n",
      "{'objects': 15938, 't': 0.036000000000000025, 'dt': 0.001, 'run_time': 5.58572793006897}\n",
      "{'objects': 15938, 't': 0.037000000000000026, 'dt': 0.001, 'run_time': 5.698650360107422}\n",
      "{'objects': 15938, 't': 0.03800000000000003, 'dt': 0.001, 'run_time': 5.811552286148071}\n",
      "{'objects': 15938, 't': 0.03800000000000003, 'dt': 0.001, 'run_time': 5.940465211868286}\n",
      "{'objects': 15938, 't': 0.03900000000000003, 'dt': 0.001, 'run_time': 6.069351673126221}\n",
      "{'objects': 15938, 't': 0.04000000000000003, 'dt': 0.001, 'run_time': 6.205668210983276}\n",
      "{'objects': 15938, 't': 0.04100000000000003, 'dt': 0.001, 'run_time': 6.330557107925415}\n",
      "{'objects': 15938, 't': 0.04200000000000003, 'dt': 0.001, 'run_time': 6.477455377578735}\n",
      "{'objects': 15938, 't': 0.04200000000000003, 'dt': 0.001, 'run_time': 6.607341289520264}\n",
      "{'objects': 15938, 't': 0.04300000000000003, 'dt': 0.001, 'run_time': 6.738252878189087}\n",
      "{'objects': 15938, 't': 0.04400000000000003, 'dt': 0.001, 'run_time': 6.853163003921509}\n",
      "{'objects': 15938, 't': 0.04500000000000003, 'dt': 0.001, 'run_time': 6.960067272186279}\n",
      "{'objects': 15938, 't': 0.046000000000000034, 'dt': 0.001, 'run_time': 7.100957870483398}\n",
      "{'objects': 15938, 't': 0.046000000000000034, 'dt': 0.001, 'run_time': 7.2078752517700195}\n",
      "{'objects': 15938, 't': 0.047000000000000035, 'dt': 0.001, 'run_time': 7.321786165237427}\n",
      "{'objects': 15938, 't': 0.048000000000000036, 'dt': 0.001, 'run_time': 7.427716255187988}\n",
      "{'objects': 15938, 't': 0.048000000000000036, 'dt': 0.001, 'run_time': 7.540122032165527}\n",
      "{'objects': 15938, 't': 0.04900000000000004, 'dt': 0.001, 'run_time': 7.66001558303833}\n",
      "{'objects': 15938, 't': 0.05000000000000004, 'dt': 0.001, 'run_time': 7.771941661834717}\n",
      "{'objects': 15938, 't': 0.05000000000000004, 'dt': 0.001, 'run_time': 7.883842468261719}\n",
      "{'objects': 15938, 't': 0.05100000000000004, 'dt': 0.001, 'run_time': 7.998752593994141}\n",
      "{'objects': 15938, 't': 0.05200000000000004, 'dt': 0.001, 'run_time': 8.105669260025024}\n",
      "{'objects': 15938, 't': 0.05200000000000004, 'dt': 0.001, 'run_time': 8.222578287124634}\n",
      "{'objects': 15938, 't': 0.05300000000000004, 'dt': 0.001, 'run_time': 8.34148621559143}\n",
      "{'objects': 15938, 't': 0.05400000000000004, 'dt': 0.001, 'run_time': 8.461392641067505}\n",
      "{'objects': 15938, 't': 0.05500000000000004, 'dt': 0.001, 'run_time': 8.575316905975342}\n",
      "{'objects': 15938, 't': 0.05500000000000004, 'dt': 0.001, 'run_time': 8.691214323043823}\n",
      "{'objects': 15938, 't': 0.05600000000000004, 'dt': 0.001, 'run_time': 8.81013536453247}\n",
      "{'objects': 15938, 't': 0.057000000000000044, 'dt': 0.001, 'run_time': 8.926044702529907}\n",
      "{'objects': 15938, 't': 0.058000000000000045, 'dt': 0.001, 'run_time': 9.038944244384766}\n",
      "{'objects': 15938, 't': 0.059000000000000045, 'dt': 0.001, 'run_time': 9.168842554092407}\n",
      "{'objects': 15938, 't': 0.059000000000000045, 'dt': 0.001, 'run_time': 9.281754970550537}\n",
      "{'objects': 15938, 't': 0.060000000000000046, 'dt': 0.001, 'run_time': 9.423656940460205}\n",
      "{'objects': 15938, 't': 0.06100000000000005, 'dt': 0.001, 'run_time': 9.543551206588745}\n",
      "{'objects': 15938, 't': 0.06200000000000005, 'dt': 0.001, 'run_time': 9.655464172363281}\n",
      "{'objects': 15938, 't': 0.06200000000000005, 'dt': 0.001, 'run_time': 9.762381076812744}\n",
      "{'objects': 15938, 't': 0.06300000000000004, 'dt': 0.001, 'run_time': 9.875293254852295}\n",
      "{'objects': 15938, 't': 0.06400000000000004, 'dt': 0.001, 'run_time': 9.988218545913696}\n",
      "{'objects': 15938, 't': 0.06500000000000004, 'dt': 0.001, 'run_time': 10.101117849349976}\n",
      "{'objects': 15938, 't': 0.06500000000000004, 'dt': 0.001, 'run_time': 10.21702766418457}\n",
      "{'objects': 15938, 't': 0.06600000000000004, 'dt': 0.001, 'run_time': 10.323944568634033}\n",
      "{'objects': 15938, 't': 0.06700000000000005, 'dt': 0.001, 'run_time': 10.43086290359497}\n",
      "{'objects': 15938, 't': 0.06800000000000005, 'dt': 0.001, 'run_time': 10.543773412704468}\n",
      "{'objects': 15938, 't': 0.06800000000000005, 'dt': 0.001, 'run_time': 10.656685590744019}\n",
      "{'objects': 15938, 't': 0.06900000000000005, 'dt': 0.001, 'run_time': 10.773607730865479}\n",
      "{'objects': 15938, 't': 0.07000000000000005, 'dt': 0.001, 'run_time': 10.886507272720337}\n",
      "{'objects': 15938, 't': 0.07000000000000005, 'dt': 0.001, 'run_time': 10.99542236328125}\n",
      "{'objects': 15938, 't': 0.07100000000000005, 'dt': 0.001, 'run_time': 11.096344232559204}\n",
      "{'objects': 15938, 't': 0.07200000000000005, 'dt': 0.001, 'run_time': 11.203260898590088}\n"
     ]
    },
    {
     "name": "stdout",
     "output_type": "stream",
     "text": [
      "{'objects': 15938, 't': 0.07300000000000005, 'dt': 0.001, 'run_time': 11.322168350219727}\n",
      "{'objects': 15938, 't': 0.07300000000000005, 'dt': 0.001, 'run_time': 11.43509316444397}\n",
      "{'objects': 15938, 't': 0.07400000000000005, 'dt': 0.001, 'run_time': 11.544995069503784}\n",
      "{'objects': 15938, 't': 0.07500000000000005, 'dt': 0.001, 'run_time': 11.651418685913086}\n",
      "{'objects': 15938, 't': 0.07500000000000005, 'dt': 0.001, 'run_time': 11.764330625534058}\n",
      "{'objects': 15938, 't': 0.07600000000000005, 'dt': 0.001, 'run_time': 11.876243829727173}\n",
      "{'objects': 15938, 't': 0.07700000000000005, 'dt': 0.001, 'run_time': 12.002158880233765}\n",
      "{'objects': 15938, 't': 0.07700000000000005, 'dt': 0.001, 'run_time': 12.112072944641113}\n",
      "{'objects': 15938, 't': 0.07800000000000006, 'dt': 0.001, 'run_time': 12.237962484359741}\n",
      "{'objects': 15938, 't': 0.07900000000000006, 'dt': 0.001, 'run_time': 12.379852294921875}\n",
      "{'objects': 15938, 't': 0.08000000000000006, 'dt': 0.001, 'run_time': 12.487768173217773}\n",
      "{'objects': 15938, 't': 0.08000000000000006, 'dt': 0.001, 'run_time': 12.594685077667236}\n",
      "{'objects': 15938, 't': 0.08100000000000006, 'dt': 0.001, 'run_time': 12.72558307647705}\n",
      "{'objects': 15938, 't': 0.08200000000000006, 'dt': 0.001, 'run_time': 12.842493772506714}\n",
      "{'objects': 15938, 't': 0.08300000000000006, 'dt': 0.001, 'run_time': 12.950408458709717}\n",
      "{'objects': 15938, 't': 0.08300000000000006, 'dt': 0.001, 'run_time': 13.055673837661743}\n",
      "{'objects': 15938, 't': 0.08400000000000006, 'dt': 0.001, 'run_time': 13.165591478347778}\n",
      "{'objects': 15938, 't': 0.08500000000000006, 'dt': 0.001, 'run_time': 13.2724928855896}\n",
      "{'objects': 15938, 't': 0.08500000000000006, 'dt': 0.001, 'run_time': 13.38541841506958}\n",
      "{'objects': 15938, 't': 0.08600000000000006, 'dt': 0.001, 'run_time': 13.51130723953247}\n",
      "{'objects': 15938, 't': 0.08700000000000006, 'dt': 0.001, 'run_time': 13.6242196559906}\n",
      "{'objects': 15938, 't': 0.08800000000000006, 'dt': 0.001, 'run_time': 13.737142086029053}\n",
      "{'objects': 15938, 't': 0.08800000000000006, 'dt': 0.001, 'run_time': 13.861035585403442}\n",
      "{'objects': 15938, 't': 0.08900000000000007, 'dt': 0.001, 'run_time': 13.967952251434326}\n",
      "{'objects': 15938, 't': 0.09000000000000007, 'dt': 0.001, 'run_time': 14.074869155883789}\n",
      "{'objects': 15938, 't': 0.09000000000000007, 'dt': 0.001, 'run_time': 14.18778109550476}\n",
      "{'objects': 15938, 't': 0.09100000000000007, 'dt': 0.001, 'run_time': 14.316681385040283}\n",
      "{'objects': 15938, 't': 0.09200000000000007, 'dt': 0.001, 'run_time': 14.424598932266235}\n",
      "{'objects': 15938, 't': 0.09300000000000007, 'dt': 0.001, 'run_time': 14.546502113342285}\n",
      "{'objects': 15938, 't': 0.09400000000000007, 'dt': 0.001, 'run_time': 14.67140531539917}\n",
      "{'objects': 15938, 't': 0.09400000000000007, 'dt': 0.001, 'run_time': 14.79331088066101}\n",
      "{'objects': 15938, 't': 0.09500000000000007, 'dt': 0.001, 'run_time': 14.901227951049805}\n",
      "{'objects': 15938, 't': 0.09600000000000007, 'dt': 0.001, 'run_time': 15.015137910842896}\n",
      "{'objects': 15938, 't': 0.09600000000000007, 'dt': 0.001, 'run_time': 15.122055053710938}\n",
      "{'objects': 15938, 't': 0.09700000000000007, 'dt': 0.001, 'run_time': 15.23496675491333}\n",
      "{'objects': 15938, 't': 0.09800000000000007, 'dt': 0.001, 'run_time': 15.368863105773926}\n",
      "{'objects': 15938, 't': 0.09900000000000007, 'dt': 0.001, 'run_time': 15.476778984069824}\n",
      "{'objects': 15938, 't': 0.09900000000000007, 'dt': 0.001, 'run_time': 15.583696365356445}\n",
      "{'objects': 15938, 't': 0.10000000000000007, 'dt': 0.001, 'run_time': 15.698607206344604}\n",
      "{'objects': 15938, 't': 0.10000000000000007, 'dt': 0.001, 'run_time': 15.800529479980469}\n"
     ]
    }
   ],
   "source": [
    "import sys\n",
    "import os\n",
    "\n",
    "import phys\n",
    "import phys.newton\n",
    "import phys.light\n",
    "import numpy as np\n",
    "import time\n",
    "import matplotlib.pyplot as plt\n",
    "from mpl_toolkits.mplot3d import Axes3D\n",
    "\n",
    "sim = phys.Simulation(params={\"bounds\": np.array([1000, 1000, 1000]), \"cl_on\": True, \"exit\": lambda cond: cond.t >= 0.100})\n",
    "\n",
    "sim.add_objs(phys.light.generate_photons(1000, bins=100, dist=\"gauss\", min=phys.light.E_from_wavelength(200e-9), max=phys.light.E_from_wavelength(700e-9)))\n",
    "\n",
    "sim.add_step(0, phys.UpdateTimeStep(lambda s: np.double(0.001)))\n",
    "sim.add_step(1, phys.newton.NewtonianKinematicsStep())\n",
    "sim.add_step(2, phys.light.ScatterSphericalStep(np.double(0.001), np.double(0.001)))\n",
    "m2 = phys.light.ScatterSignMeasureStep(None, True)\n",
    "sim.add_step(4, m2)\n",
    "\n",
    "sim.start()\n",
    "\n",
    "while sim.running:\n",
    "        time.sleep(0.1)\n",
    "        print(sim.get_state())"
   ]
  },
  {
   "cell_type": "markdown",
   "metadata": {},
   "source": [
    "This simulation works similarly to the deletion simulation. For this, we change the exit condition to `lambda cond: cond.t >= 0.100` so it ends after $0.100$ seconds have been simulated. Then we add `ScatterSphericalStep`, which scatters with the same probability as with `ScatterDeleteStep`, but will instead scatter photons in a random direction."
   ]
  },
  {
   "cell_type": "code",
   "execution_count": 15,
   "metadata": {},
   "outputs": [
    {
     "data": {
      "image/png": "[encoded data removed]",
      "text/plain": [
       "<Figure size 432x288 with 1 Axes>"
      ]
     },
     "metadata": {
      "needs_background": "light"
     },
     "output_type": "display_data"
    }
   ],
   "source": [
    "plt.plot(sim.ts, [x[2] for x in m2.data], label=\"x > 0\")\n",
    "plt.plot(sim.ts, [x[3] for x in m2.data], label=\"y > 0\")\n",
    "plt.plot(sim.ts, [x[4] for x in m2.data], label=\"z > 0\")\n",
    "plt.ylabel(\"Photons\")\n",
    "plt.xlabel(\"Time (s)\")\n",
    "plt.legend()\n",
    "plt.title(\"Positive Coordinate Count vs. Time (s)\")\n",
    "\n",
    "plt.show()"
   ]
  },
  {
   "cell_type": "markdown",
   "metadata": {},
   "source": [
    "One property of scattering in a random direction will be that the positive and negative signed coordinates will be evenly split for each axis. Since we initialized every ray in the $+x$ direction, we will see it decrease to around $50\\%$ of the original photons, while photons with a $+y$ and $+z$ direction will increase to around $50\\%$."
   ]
  },
  {
   "cell_type": "code",
   "execution_count": null,
   "metadata": {},
   "outputs": [],
   "source": []
  }
 ],
 "metadata": {
  "kernelspec": {
   "display_name": "Python 3",
   "language": "python",
   "name": "python3"
  },
  "language_info": {
   "codemirror_mode": {
    "name": "ipython",
    "version": 3
   },
   "file_extension": ".py",
   "mimetype": "text/x-python",
   "name": "python",
   "nbconvert_exporter": "python",
   "pygments_lexer": "ipython3",
   "version": "3.7.1"
  }
 },
 "nbformat": 4,
 "nbformat_minor": 2
}
