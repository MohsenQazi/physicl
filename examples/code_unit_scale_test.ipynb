{
 "cells": [
  {
   "cell_type": "code",
   "execution_count": 1,
   "metadata": {},
   "outputs": [
    {
     "name": "stdout",
     "output_type": "stream",
     "text": [
      "{'s': [1, ('T', 1)], 'm': [0.001, ('L', 1)], 'kg': [1, ('M', 1)], 'A': [1, ('I', 1)], 'K': [1, ('Th', 1)], 'mol': [1, ('N', 1)], 'cd': [1, ('J', 1)]}\n",
      "Done generating photons\n",
      "{'objects': 97125, 't': 1e-05 s**1, 'dt': 1e-05 s**1, 'run_time': 5.01303243637085}\n",
      "{'objects': 94732, 't': 2e-05 s**1, 'dt': 1e-05 s**1, 'run_time': 10.025087356567383}\n",
      "{'objects': 92388, 't': 3.0000000000000004e-05 s**1, 'dt': 1e-05 s**1, 'run_time': 15.07483696937561}\n",
      "{'objects': 90065, 't': 4e-05 s**1, 'dt': 1e-05 s**1, 'run_time': 20.13329243659973}\n",
      "{'objects': 87709, 't': 5e-05 s**1, 'dt': 1e-05 s**1, 'run_time': 25.19192934036255}\n",
      "{'objects': 85219, 't': 6e-05 s**1, 'dt': 1e-05 s**1, 'run_time': 30.21034026145935}\n",
      "{'objects': 81985, 't': 7.000000000000001e-05 s**1, 'dt': 1e-05 s**1, 'run_time': 35.22327494621277}\n",
      "{'objects': 78618, 't': 8e-05 s**1, 'dt': 1e-05 s**1, 'run_time': 40.2541127204895}\n",
      "{'objects': 75607, 't': 9e-05 s**1, 'dt': 1e-05 s**1, 'run_time': 45.26623320579529}\n",
      "{'objects': 73239, 't': 0.00011 s**1, 'dt': 1e-05 s**1, 'run_time': 50.3150372505188}\n",
      "{'objects': 70913, 't': 0.00012 s**1, 'dt': 1e-05 s**1, 'run_time': 55.338953733444214}\n",
      "{'objects': 67348, 't': 0.00013000000000000002 s**1, 'dt': 1e-05 s**1, 'run_time': 60.35173583030701}\n",
      "{'objects': 64656, 't': 0.00015000000000000001 s**1, 'dt': 1e-05 s**1, 'run_time': 65.38236284255981}\n",
      "{'objects': 62645, 't': 0.00016 s**1, 'dt': 1e-05 s**1, 'run_time': 70.41845107078552}\n",
      "{'objects': 59232, 't': 0.00017 s**1, 'dt': 1e-05 s**1, 'run_time': 75.44869208335876}\n",
      "{'objects': 56999, 't': 0.00019 s**1, 'dt': 1e-05 s**1, 'run_time': 80.5059449672699}\n",
      "{'objects': 53607, 't': 0.00021 s**1, 'dt': 1e-05 s**1, 'run_time': 85.524738073349}\n",
      "{'objects': 50436, 't': 0.00023 s**1, 'dt': 1e-05 s**1, 'run_time': 90.55508589744568}\n",
      "{'objects': 47411, 't': 0.00025 s**1, 'dt': 1e-05 s**1, 'run_time': 95.60239744186401}\n",
      "{'objects': 44529, 't': 0.00027000000000000006 s**1, 'dt': 1e-05 s**1, 'run_time': 100.61355185508728}\n",
      "{'objects': 40595, 't': 0.0002900000000000001 s**1, 'dt': 1e-05 s**1, 'run_time': 105.66051411628723}\n",
      "{'objects': 38157, 't': 0.0003200000000000002 s**1, 'dt': 1e-05 s**1, 'run_time': 110.69224691390991}\n",
      "{'objects': 34772, 't': 0.00035000000000000027 s**1, 'dt': 1e-05 s**1, 'run_time': 115.71323323249817}\n",
      "{'objects': 30755, 't': 0.00038000000000000035 s**1, 'dt': 1e-05 s**1, 'run_time': 120.74347591400146}\n",
      "{'objects': 28000, 't': 0.00042000000000000045 s**1, 'dt': 1e-05 s**1, 'run_time': 125.75709128379822}\n",
      "{'objects': 24735, 't': 0.00046000000000000056 s**1, 'dt': 1e-05 s**1, 'run_time': 130.7703218460083}\n",
      "{'objects': 21139, 't': 0.0005100000000000007 s**1, 'dt': 1e-05 s**1, 'run_time': 135.78890562057495}\n",
      "{'objects': 17500, 't': 0.0005700000000000008 s**1, 'dt': 1e-05 s**1, 'run_time': 140.8463785648346}\n",
      "{'objects': 14075, 't': 0.000640000000000001 s**1, 'dt': 1e-05 s**1, 'run_time': 145.85836791992188}\n",
      "{'objects': 10712, 't': 0.0007300000000000013 s**1, 'dt': 1e-05 s**1, 'run_time': 150.87046790122986}\n",
      "{'objects': 7206, 't': 0.0008600000000000016 s**1, 'dt': 1e-05 s**1, 'run_time': 155.88256454467773}\n",
      "{'objects': 3504, 't': 0.0010900000000000022 s**1, 'dt': 1e-05 s**1, 'run_time': 160.90070962905884}\n",
      "{'objects': 0, 't': 0.003730000000000009 s**1, 'dt': 1e-05 s**1, 'run_time': 165.90668773651123}\n"
     ]
    }
   ],
   "source": [
    "import sys\n",
    "import os\n",
    "\n",
    "import phys\n",
    "phys.Measurement.set_code_scale(\"m\", 0.001)\n",
    "import phys.newton\n",
    "import phys.light\n",
    "import numpy as np\n",
    "import time\n",
    "import matplotlib.pyplot as plt\n",
    "from mpl_toolkits.mplot3d import Axes3D\n",
    "\n",
    "sim = phys.Simulation(bounds=np.array([1000, 1000, 1000]), cl_on=True, exit=lambda cond: len(cond.objects) == 0)\n",
    "\n",
    "\n",
    "sim.add_objs(phys.light.generate_photons(1e5, bins=100, min=phys.light.E_from_wavelength(phys.Measurement(200e-9, \"m**1\")), max=phys.light.E_from_wavelength(phys.Measurement(700e-9, \"m**1\"))))\n",
    "print(\"Done generating photons\")\n",
    "sim.add_step(0, phys.UpdateTimeStep(lambda s: phys.Measurement(0.00001, \"s**1\")))\n",
    "sim.add_step(1, phys.newton.NewtonianKinematicsStep())\n",
    "n = phys.Measurement(2.0e25, \"m**-3\")\n",
    "A = phys.Measurement(5.1e-31, \"m**2\")\n",
    "sim.add_step(2, phys.light.ScatterDeleteStep(n, A))\n",
    "m1 = phys.light.ScatterMeasureStep(None, True, [phys.Measurement([1 / (n * A), np.nan, np.nan], \"m**1\"), phys.Measurement([9.80e4, np.nan, np.nan], \"m**1\")])\n",
    "sim.add_step(3, m1)\n",
    "\n",
    "sim.start()\n",
    "\n",
    "while sim.running:\n",
    "        time.sleep(5)\n",
    "        print(sim.get_state())"
   ]
  },
  {
   "cell_type": "code",
   "execution_count": 2,
   "metadata": {},
   "outputs": [
    {
     "data": {
      "image/png": "[encoded data removed]",
      "text/plain": [
       "<Figure size 432x288 with 1 Axes>"
      ]
     },
     "metadata": {
      "needs_background": "light"
     },
     "output_type": "display_data"
    },
    {
     "name": "stdout",
     "output_type": "stream",
     "text": [
      "32 32\n",
      "Photons at plane 1: 35880.0\n",
      "Photons at plane 2: 35880.0\n",
      "Expected: 36787.94411714424\n",
      "Error: 0.024680479948894714\n"
     ]
    }
   ],
   "source": [
    "pos = 1 / (n * A)\n",
    "pos2 = phys.Measurement(9.80e4, \"m**1\")\n",
    "\n",
    "plt.plot(sim.ts, [x[1] for x in m1.data], label=\"n\")\n",
    "plt.ylabel(\"Photons\")\n",
    "plt.xlabel(\"Time (s)\")\n",
    "plt.title(\"Photon Count vs. Time (s)\")\n",
    "plt.show()\n",
    "idx1 = int(((pos / sim.dt) / phys.light.c).__unscaled__())\n",
    "idx2 = int((pos2 / sim.dt) / phys.light.c)\n",
    "print(idx1, idx2)\n",
    "print(\"Photons at plane 1: \" + str(m1.data[idx1][2]))\n",
    "print(\"Photons at plane 2: \" + str(m1.data[idx2][2]))\n",
    "expect = (1e5 / np.e)\n",
    "print(\"Expected: \" + str(expect))\n",
    "print(\"Error: \" + str((expect - m1.data[idx1][2]) / expect))"
   ]
  },
  {
   "cell_type": "code",
   "execution_count": null,
   "metadata": {},
   "outputs": [],
   "source": []
  }
 ],
 "metadata": {
  "kernelspec": {
   "display_name": "Python 3",
   "language": "python",
   "name": "python3"
  },
  "language_info": {
   "codemirror_mode": {
    "name": "ipython",
    "version": 3
   },
   "file_extension": ".py",
   "mimetype": "text/x-python",
   "name": "python",
   "nbconvert_exporter": "python",
   "pygments_lexer": "ipython3",
   "version": "3.7.2"
  }
 },
 "nbformat": 4,
 "nbformat_minor": 2
}
