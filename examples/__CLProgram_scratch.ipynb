{
 "cells": [
  {
   "cell_type": "code",
   "execution_count": 1,
   "metadata": {
    "scrolled": true
   },
   "outputs": [],
   "source": [
    "import phys\n",
    "import phys.newton\n",
    "import phys.light\n",
    "import numpy as np\n",
    "import time\n",
    "import matplotlib.pyplot as plt\n",
    "from mpl_toolkits.mplot3d import Axes3D\n",
    "\n",
    "class ScatterDeleteStep2(phys.Step):\n",
    "    def __init__(self, n, A):\n",
    "        self.n = n\n",
    "        self.A = A\n",
    "        self.built = False\n",
    "        \n",
    "    def run(self, sim):\n",
    "        if self.built != True:\n",
    "            skip = phys.CLInput(name=\"photon_check\", type=\"obj_action\", code=\"if type(obj) != phys.light.PhotonObject:\\n \\t\\t continue\")\n",
    "            d0, d1, d2 = tuple([phys.CLInput(name=\"d\" + str(x), type=\"obj\", obj_attr=\"dr[\" + str(x) + \"]\") for x in range(0, 3)])\n",
    "            rand = phys.CLInput(name=\"rand\", type=\"obj_def\", obj_def=\"np.random.random()\")\n",
    "            A_, n_ = phys.CLInput(name=\"A\", type=\"const\", const_value=str(self.n)), phys.CLInput(name=\"n\", type=\"const\", const_value=str(self.A))\n",
    "            pht = phys.CLInput(name=\"pht\", type=\"obj_track\", obj_track=\"obj\")\n",
    "            res = phys.CLOutput(name=\"res\", ctype=\"int\")\n",
    "            kernel = \"\"\"\n",
    "                int gid = get_global_id(0);\n",
    "                    double norm = sqrt(pow(d0[gid], 2) + pow(d1[gid], 2) + pow(d2[gid], 2));\n",
    "                    double pcoll = A * n * norm;\n",
    "                    if (pcoll >= rand[gid]){\n",
    "                        // Mark for removal.\n",
    "                        res[gid] = 1;\n",
    "                    } else {\n",
    "                        res[gid] = 0;\n",
    "                    }\n",
    "                \"\"\"\n",
    "            \n",
    "            self.prog = phys.CLProgram(sim, \"test\", kernel)\n",
    "            self.prog.prep_metadata = [skip, d0, d1, d2, rand, pht, A_, n_]\n",
    "            self.prog.output_metadata = [res]\n",
    "            self.prog.build_kernel()\n",
    "            self.built = True\n",
    "        \n",
    "        out = self.prog.run()\n",
    "        for idx, x in enumerate(out[\"res\"]):\n",
    "            if x == 1:\n",
    "                sim.remove_obj(self.prog.pht[idx])\n",
    "\n",
    "def new_sim(step, n):\n",
    "    sim = phys.Simulation({\"cl_on\": True})\n",
    "    sim.add_objs(phys.light.generate_photons_from_E([phys.light.planck_phot_distribution(phys.light.E_from_wavelength(500000e-9), phys.light.E_from_wavelength(100e-9), 2500, bins=50000) for x in range(n)]))\n",
    "    sim.exit = lambda cond: len(cond.objects) == 0\n",
    "    sim.add_step(0, phys.UpdateTimeStep(lambda s: np.double(0.001)))\n",
    "    sim.add_step(1, phys.newton.NewtonianKinematicsStep())\n",
    "    sim.add_step(2, step(np.double(0.001), np.double(0.001)))\n",
    "    return sim"
   ]
  },
  {
   "cell_type": "code",
   "execution_count": 7,
   "metadata": {},
   "outputs": [
    {
     "name": "stdout",
     "output_type": "stream",
     "text": [
      "Testing old 100.0\n",
      "Testing new 100.0\n",
      "Testing old 237.0\n",
      "Testing new 237.0\n",
      "Testing old 562.0\n",
      "Testing new 562.0\n",
      "Testing old 1333.0\n",
      "Testing new 1333.0\n",
      "Testing old 3162.0\n",
      "Testing new 3162.0\n",
      "Testing old 7498.0\n",
      "Testing new 7498.0\n",
      "Testing old 17782.0\n",
      "Testing new 17782.0\n",
      "Testing old 42169.0\n",
      "Testing new 42169.0\n",
      "Testing old 100000.0\n",
      "Testing new 100000.0\n"
     ]
    }
   ],
   "source": [
    "orig, new = [], []\n",
    "ns = np.floor(10 ** np.linspace(2, 5, 9))\n",
    "for i in ns:\n",
    "    print(\"Testing old \" + str(i))\n",
    "    o = new_sim(phys.light.ScatterDeleteStep, int(i))\n",
    "    o.start()\n",
    "    o.join()\n",
    "    orig.append(o.run_time)\n",
    "    \n",
    "    print(\"Testing new \" + str(i))\n",
    "    n = new_sim(ScatterDeleteStep2, int(i))\n",
    "    n.start()\n",
    "    n.join()\n",
    "    new.append(n.run_time)"
   ]
  },
  {
   "cell_type": "code",
   "execution_count": 13,
   "metadata": {},
   "outputs": [
    {
     "data": {
      "image/png": "[encoded data removed]",
      "text/plain": [
       "<Figure size 432x288 with 1 Axes>"
      ]
     },
     "metadata": {
      "needs_background": "light"
     },
     "output_type": "display_data"
    }
   ],
   "source": [
    "plt.plot(ns, new, label=\"New\")\n",
    "plt.plot(ns, orig, label=\"Original\")\n",
    "plt.legend()\n",
    "plt.xlabel(\"$N_\\gamma$\")\n",
    "plt.ylabel(\"Time (s)\")\n",
    "plt.title(\"$N_\\gamma$ vs. Time\")\n",
    "plt.show()"
   ]
  },
  {
   "cell_type": "code",
   "execution_count": null,
   "metadata": {},
   "outputs": [],
   "source": []
  }
 ],
 "metadata": {
  "kernelspec": {
   "display_name": "Python 3",
   "language": "python",
   "name": "python3"
  },
  "language_info": {
   "codemirror_mode": {
    "name": "ipython",
    "version": 3
   },
   "file_extension": ".py",
   "mimetype": "text/x-python",
   "name": "python",
   "nbconvert_exporter": "python",
   "pygments_lexer": "ipython3",
   "version": "3.7.2"
  }
 },
 "nbformat": 4,
 "nbformat_minor": 4
}
