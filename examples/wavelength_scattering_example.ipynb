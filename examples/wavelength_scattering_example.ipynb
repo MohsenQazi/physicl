{
 "cells": [
  {
   "cell_type": "markdown",
   "metadata": {},
   "source": [
    "# Wavelength Dependent Scattering Example\n",
    "In this notebook, we will examine using a wavelength distribution generator to generate a variety of wavelengths. Then we will use wavelength-dependent scattering to scatter these photons."
   ]
  },
  {
   "cell_type": "markdown",
   "metadata": {},
   "source": [
    "## Photon Distribution Generator\n",
    "`phys.light`'s distribution generator works by taking a random sample for each $n$ photons desired and then using that random sample to generate a photon within the range of `min` and `max`. By default the function used to make the random distribution is `numpy.random.power(3)`. As can be seen below, we generate $50,000$ photons with wavelengths that vary from $200$ nm to $400$ nm."
   ]
  },
  {
   "cell_type": "code",
   "execution_count": 1,
   "metadata": {},
   "outputs": [],
   "source": [
    "import phys.light\n",
    "import matplotlib.pyplot as plt\n",
    "import numpy as np"
   ]
  },
  {
   "cell_type": "code",
   "execution_count": 2,
   "metadata": {},
   "outputs": [],
   "source": [
    "x = phys.light.generate_photons(50000, min=phys.light.E_from_wavelength(200e-9), max=phys.light.E_from_wavelength(400e-9))\n",
    "x.sort(key=lambda y: y.E)"
   ]
  },
  {
   "cell_type": "code",
   "execution_count": 3,
   "metadata": {},
   "outputs": [
    {
     "data": {
      "text/plain": [
       "Text(0.5, 1.0, '$\\\\log N_\\\\gamma$ vs. $\\\\log \\\\lambda$')"
      ]
     },
     "execution_count": 3,
     "metadata": {},
     "output_type": "execute_result"
    },
    {
     "data": {
      "image/png": "[encoded data removed]",
      "text/plain": [
       "<Figure size 432x288 with 1 Axes>"
      ]
     },
     "metadata": {
      "needs_background": "light"
     },
     "output_type": "display_data"
    }
   ],
   "source": [
    "plt.hist([np.log(phys.light.wavelength_from_E(y.E)) for y in x], 100)\n",
    "plt.xlabel(\"$\\log \\lambda$\")\n",
    "plt.ylabel(\"$\\log N_\\gamma$\")\n",
    "plt.title(\"$\\log N_\\gamma$ vs. $\\log \\lambda$\")"
   ]
  },
  {
   "cell_type": "markdown",
   "metadata": {},
   "source": [
    "## Wavelength Dependent Scattering\n",
    "Next we will use a constant distribution of $100,000$ photons ranging from $600$ to $1200$ nm to observe how wavelength dependent scattering works. We will run our experiment using the following:"
   ]
  },
  {
   "cell_type": "code",
   "execution_count": 4,
   "metadata": {},
   "outputs": [],
   "source": [
    "import phys\n",
    "import phys.newton\n",
    "sim = phys.Simulation({\"cl_on\": True, \"exit\": lambda cond: cond.t >= 0.100})\n",
    "sim.add_objs(phys.light.generate_photons(100000, fn=np.random.random, min=phys.light.E_from_wavelength(600e-9), max=phys.light.E_from_wavelength(1200e-9)))\n",
    "sim.add_step(0, phys.UpdateTimeStep(lambda x: 0.0005))\n",
    "sim.add_step(1, phys.newton.NewtonianKinematicsStep())\n",
    "sim.add_step(2, phys.light.ScatterSphericalStep(0.00000000000000001, 0.00000000000000005, wavelength_dep_scattering=True))\n",
    "sim.add_step(3, phys.light.TracePathMeasureStep(None, id_info_fn = lambda x: str(x.E), trace_dv = True))"
   ]
  },
  {
   "cell_type": "code",
   "execution_count": 5,
   "metadata": {},
   "outputs": [
    {
     "name": "stdout",
     "output_type": "stream",
     "text": [
      "{'objects': 100000, 't': 0.0015, 'dt': 0.0005, 'run_time': 10.023172855377197}\n",
      "{'objects': 100000, 't': 0.0035, 'dt': 0.0005, 'run_time': 20.037200927734375}\n",
      "{'objects': 100000, 't': 0.005000000000000001, 'dt': 0.0005, 'run_time': 30.12472176551819}\n",
      "{'objects': 100000, 't': 0.006500000000000002, 'dt': 0.0005, 'run_time': 40.14157438278198}\n",
      "{'objects': 100000, 't': 0.008500000000000004, 'dt': 0.0005, 'run_time': 50.18309569358826}\n",
      "{'objects': 100000, 't': 0.010000000000000005, 'dt': 0.0005, 'run_time': 60.22428107261658}\n",
      "{'objects': 100000, 't': 0.012000000000000007, 'dt': 0.0005, 'run_time': 70.2354884147644}\n",
      "{'objects': 100000, 't': 0.013500000000000009, 'dt': 0.0005, 'run_time': 80.27167773246765}\n",
      "{'objects': 100000, 't': 0.01500000000000001, 'dt': 0.0005, 'run_time': 90.2748920917511}\n",
      "{'objects': 100000, 't': 0.01700000000000001, 'dt': 0.0005, 'run_time': 100.31607580184937}\n",
      "{'objects': 100000, 't': 0.018500000000000013, 'dt': 0.0005, 'run_time': 110.37024998664856}\n",
      "{'objects': 100000, 't': 0.020000000000000014, 'dt': 0.0005, 'run_time': 120.408438205719}\n",
      "{'objects': 100000, 't': 0.021500000000000016, 'dt': 0.0005, 'run_time': 130.4406294822693}\n",
      "{'objects': 100000, 't': 0.023500000000000017, 'dt': 0.0005, 'run_time': 140.44684195518494}\n",
      "{'objects': 100000, 't': 0.02500000000000002, 'dt': 0.0005, 'run_time': 150.4560513496399}\n",
      "{'objects': 100000, 't': 0.02700000000000002, 'dt': 0.0005, 'run_time': 160.53020906448364}\n",
      "{'objects': 100000, 't': 0.028500000000000022, 'dt': 0.0005, 'run_time': 170.57039594650269}\n",
      "{'objects': 100000, 't': 0.030000000000000023, 'dt': 0.0005, 'run_time': 180.57260990142822}\n",
      "{'objects': 100000, 't': 0.03200000000000002, 'dt': 0.0005, 'run_time': 190.59681963920593}\n",
      "{'objects': 100000, 't': 0.03350000000000002, 'dt': 0.0005, 'run_time': 200.64598536491394}\n",
      "{'objects': 100000, 't': 0.035500000000000025, 'dt': 0.0005, 'run_time': 210.66219091415405}\n",
      "{'objects': 100000, 't': 0.037000000000000026, 'dt': 0.0005, 'run_time': 220.69837975502014}\n",
      "{'objects': 100000, 't': 0.03850000000000003, 'dt': 0.0005, 'run_time': 230.70459079742432}\n",
      "{'objects': 100000, 't': 0.04050000000000003, 'dt': 0.0005, 'run_time': 240.71081495285034}\n",
      "{'objects': 100000, 't': 0.04200000000000003, 'dt': 0.0005, 'run_time': 250.73499989509583}\n",
      "{'objects': 100000, 't': 0.04400000000000003, 'dt': 0.0005, 'run_time': 260.76019835472107}\n",
      "{'objects': 100000, 't': 0.045500000000000033, 'dt': 0.0005, 'run_time': 270.78839230537415}\n",
      "{'objects': 100000, 't': 0.047000000000000035, 'dt': 0.0005, 'run_time': 280.8205831050873}\n",
      "{'objects': 100000, 't': 0.04900000000000004, 'dt': 0.0005, 'run_time': 290.8298032283783}\n",
      "{'objects': 100000, 't': 0.05050000000000004, 'dt': 0.0005, 'run_time': 300.8539912700653}\n",
      "{'objects': 100000, 't': 0.05250000000000004, 'dt': 0.0005, 'run_time': 310.8771893978119}\n",
      "{'objects': 100000, 't': 0.05400000000000004, 'dt': 0.0005, 'run_time': 320.91737508773804}\n",
      "{'objects': 100000, 't': 0.05550000000000004, 'dt': 0.0005, 'run_time': 330.9255847930908}\n",
      "{'objects': 100000, 't': 0.057500000000000044, 'dt': 0.0005, 'run_time': 340.95777678489685}\n",
      "{'objects': 100000, 't': 0.059000000000000045, 'dt': 0.0005, 'run_time': 351.026939868927}\n",
      "{'objects': 100000, 't': 0.06050000000000005, 'dt': 0.0005, 'run_time': 361.0361487865448}\n",
      "{'objects': 100000, 't': 0.06250000000000004, 'dt': 0.0005, 'run_time': 371.06234526634216}\n",
      "{'objects': 100000, 't': 0.06400000000000004, 'dt': 0.0005, 'run_time': 381.0685670375824}\n",
      "{'objects': 100000, 't': 0.06600000000000004, 'dt': 0.0005, 'run_time': 391.07378220558167}\n",
      "{'objects': 100000, 't': 0.06750000000000005, 'dt': 0.0005, 'run_time': 401.08797574043274}\n",
      "{'objects': 100000, 't': 0.06900000000000005, 'dt': 0.0005, 'run_time': 411.12216544151306}\n",
      "{'objects': 100000, 't': 0.07100000000000005, 'dt': 0.0005, 'run_time': 421.1313753128052}\n",
      "{'objects': 100000, 't': 0.07250000000000005, 'dt': 0.0005, 'run_time': 431.187548160553}\n",
      "{'objects': 100000, 't': 0.07400000000000005, 'dt': 0.0005, 'run_time': 441.20874786376953}\n",
      "{'objects': 100000, 't': 0.07600000000000005, 'dt': 0.0005, 'run_time': 451.2189693450928}\n",
      "{'objects': 100000, 't': 0.07750000000000005, 'dt': 0.0005, 'run_time': 461.25214743614197}\n",
      "{'objects': 100000, 't': 0.07900000000000006, 'dt': 0.0005, 'run_time': 471.25636291503906}\n",
      "{'objects': 100000, 't': 0.08100000000000006, 'dt': 0.0005, 'run_time': 481.3155310153961}\n",
      "{'objects': 100000, 't': 0.08250000000000006, 'dt': 0.0005, 'run_time': 491.3687083721161}\n",
      "{'objects': 100000, 't': 0.08400000000000006, 'dt': 0.0005, 'run_time': 501.3859100341797}\n",
      "{'objects': 100000, 't': 0.08600000000000006, 'dt': 0.0005, 'run_time': 511.3931214809418}\n",
      "{'objects': 100000, 't': 0.08750000000000006, 'dt': 0.0005, 'run_time': 521.4193179607391}\n",
      "{'objects': 100000, 't': 0.08950000000000007, 'dt': 0.0005, 'run_time': 531.4595062732697}\n",
      "{'objects': 100000, 't': 0.09100000000000007, 'dt': 0.0005, 'run_time': 541.4647254943848}\n",
      "{'objects': 100000, 't': 0.09250000000000007, 'dt': 0.0005, 'run_time': 551.5178906917572}\n",
      "{'objects': 100000, 't': 0.09450000000000007, 'dt': 0.0005, 'run_time': 561.5530805587769}\n",
      "{'objects': 100000, 't': 0.09600000000000007, 'dt': 0.0005, 'run_time': 571.5852720737457}\n",
      "{'objects': 100000, 't': 0.09750000000000007, 'dt': 0.0005, 'run_time': 581.6214606761932}\n",
      "{'objects': 100000, 't': 0.09950000000000007, 'dt': 0.0005, 'run_time': 591.6586492061615}\n",
      "{'objects': 100000, 't': 0.10000000000000007, 'dt': 0.0005, 'run_time': 601.6648600101471}\n"
     ]
    }
   ],
   "source": [
    "import time\n",
    "sim.start()\n",
    "\n",
    "while sim.running:\n",
    "    time.sleep(10)\n",
    "    print(sim.get_state())"
   ]
  },
  {
   "cell_type": "markdown",
   "metadata": {},
   "source": [
    "Below are two histograms representing the scenario. The first one shows what distribution of photons we used. The next histogram represents the number of scatterings that occurred for each wavelength bin. As can be seen, the number of scatterings that occurs for a given wavelength increases dramatically, as the probability function for scattering, $P(coll) = \\frac{A_0 \\cdot n \\cdot ||\\Delta x||}{\\lambda^4}$, would indicate."
   ]
  },
  {
   "cell_type": "code",
   "execution_count": 6,
   "metadata": {},
   "outputs": [
    {
     "data": {
      "text/plain": [
       "Text(0, 0.5, 'Frequency')"
      ]
     },
     "execution_count": 6,
     "metadata": {},
     "output_type": "execute_result"
    },
    {
     "data": {
      "image/png": "[encoded data removed]",
      "text/plain": [
       "<Figure size 432x288 with 1 Axes>"
      ]
     },
     "metadata": {
      "needs_background": "light"
     },
     "output_type": "display_data"
    }
   ],
   "source": [
    "xy = []\n",
    "for z in sim.steps[3].data[1:]:\n",
    "    r = [phys.light.wavelength_from_E(np.double(z[0])) / 10 ** -9] * z[1]\n",
    "    xy.extend(r)\n",
    "x = [np.double(z[0]) for z in sim.steps[3].data[1:]]\n",
    "y = [np.double(z[1]) for z in sim.steps[3].data[1:]]\n",
    "plt.hist(x)\n",
    "plt.title(\"Frequency of Photons\")\n",
    "plt.xlabel(\"$E_\\gamma$ (J)\")\n",
    "plt.ylabel(\"Frequency\")"
   ]
  },
  {
   "cell_type": "code",
   "execution_count": 23,
   "metadata": {
    "scrolled": true
   },
   "outputs": [
    {
     "data": {
      "text/plain": [
       "Text(0.5, 1.0, 'Frequency of Scattering as a Result of $\\\\lambda$')"
      ]
     },
     "execution_count": 23,
     "metadata": {},
     "output_type": "execute_result"
    },
    {
     "data": {
      "image/png": "[encoded data removed]",
      "text/plain": [
       "<Figure size 432x288 with 1 Axes>"
      ]
     },
     "metadata": {
      "needs_background": "light"
     },
     "output_type": "display_data"
    }
   ],
   "source": [
    "plt.hist(xy, 100)\n",
    "plt.xlabel(\"$\\lambda$ (nm)\")\n",
    "plt.ylabel(\"Frequency of Scattering\")\n",
    "plt.title(\"Frequency of Scattering as a Result of $\\lambda$\")"
   ]
  },
  {
   "cell_type": "code",
   "execution_count": null,
   "metadata": {},
   "outputs": [],
   "source": []
  }
 ],
 "metadata": {
  "kernelspec": {
   "display_name": "Python 3",
   "language": "python",
   "name": "python3"
  },
  "language_info": {
   "codemirror_mode": {
    "name": "ipython",
    "version": 3
   },
   "file_extension": ".py",
   "mimetype": "text/x-python",
   "name": "python",
   "nbconvert_exporter": "python",
   "pygments_lexer": "ipython3",
   "version": "3.7.2"
  }
 },
 "nbformat": 4,
 "nbformat_minor": 2
}
