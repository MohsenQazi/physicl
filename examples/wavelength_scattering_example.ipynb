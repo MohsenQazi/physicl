{
 "cells": [
  {
   "cell_type": "markdown",
   "metadata": {},
   "source": [
    "# Wavelength Dependent Scattering Example\n",
    "In this notebook, we will examine using a wavelength distribution generator to generate a variety of wavelengths. Then we will use wavelength-dependent scattering to scatter these photons."
   ]
  },
  {
   "cell_type": "markdown",
   "metadata": {},
   "source": [
    "## Photon Distribution Generator\n",
    "`phys.light`'s distribution generator works by taking a random sample for each $n$ photons desired and then using that random sample to generate a photon within the range of `min` and `max`. By default the function used to make the random distribution is `numpy.random.power(3)`. As can be seen below, we generate $50,000$ photons with wavelengths that vary from $200$ nm to $400$ nm."
   ]
  },
  {
   "cell_type": "code",
   "execution_count": 1,
   "metadata": {},
   "outputs": [],
   "source": [
    "import phys.light\n",
    "import matplotlib.pyplot as plt\n",
    "import numpy as np"
   ]
  },
  {
   "cell_type": "code",
   "execution_count": 2,
   "metadata": {},
   "outputs": [],
   "source": [
    "x = phys.light.generate_photons(50000, min=phys.light.E_from_wavelength(200e-9), max=phys.light.E_from_wavelength(400e-9))\n",
    "x.sort(key=lambda y: y.E)"
   ]
  },
  {
   "cell_type": "code",
   "execution_count": 3,
   "metadata": {},
   "outputs": [
    {
     "data": {
      "text/plain": [
       "Text(0.5, 1.0, '$\\\\log N_\\\\gamma$ vs. $\\\\log \\\\lambda$')"
      ]
     },
     "execution_count": 3,
     "metadata": {},
     "output_type": "execute_result"
    },
    {
     "data": {
      "image/png": "[encoded data removed]",
      "text/plain": [
       "<Figure size 432x288 with 1 Axes>"
      ]
     },
     "metadata": {
      "needs_background": "light"
     },
     "output_type": "display_data"
    }
   ],
   "source": [
    "plt.hist([np.log(phys.light.wavelength_from_E(y.E)) for y in x], 100)\n",
    "plt.xlabel(\"$\\log \\lambda$\")\n",
    "plt.ylabel(\"$\\log N_\\gamma$\")\n",
    "plt.title(\"$\\log N_\\gamma$ vs. $\\log \\lambda$\")"
   ]
  },
  {
   "cell_type": "markdown",
   "metadata": {},
   "source": [
    "## Wavelength Dependent Scattering\n",
    "Next we will use a constant distribution of $100,000$ photons ranging from $600$ to $1200$ nm to observe how wavelength dependent scattering works. We will run our experiment using the following:"
   ]
  },
  {
   "cell_type": "code",
   "execution_count": 4,
   "metadata": {},
   "outputs": [],
   "source": [
    "import phys\n",
    "import phys.newton\n",
    "sim = phys.Simulation(cl_on=True, exit=lambda cond: cond.t >= 0.100)\n",
    "sim.add_objs(phys.light.generate_photons(100000, fn=np.random.random, min=phys.light.E_from_wavelength(600e-9), max=phys.light.E_from_wavelength(1200e-9)))\n",
    "sim.add_step(0, phys.UpdateTimeStep(lambda x: 0.0005))\n",
    "sim.add_step(1, phys.newton.NewtonianKinematicsStep())\n",
    "sim.add_step(2, phys.light.ScatterSphericalStep(0.00000000000000001, 0.00000000000000005, wavelength_dep_scattering=True))\n",
    "sim.add_step(3, phys.light.TracePathMeasureStep(None, id_info_fn = lambda x: str(x.E), trace_dv = True))"
   ]
  },
  {
   "cell_type": "code",
   "execution_count": 5,
   "metadata": {},
   "outputs": [
    {
     "name": "stdout",
     "output_type": "stream",
     "text": [
      "{'objects': 100000, 't': 0.001, 'dt': 0.0005, 'run_time': 10.011362314224243}\n",
      "{'objects': 100000, 't': 0.0015, 'dt': 0.0005, 'run_time': 20.05999493598938}\n",
      "{'objects': 100000, 't': 0.0025, 'dt': 0.0005, 'run_time': 30.107858419418335}\n",
      "{'objects': 100000, 't': 0.003, 'dt': 0.0005, 'run_time': 40.153446674346924}\n",
      "{'objects': 100000, 't': 0.004, 'dt': 0.0005, 'run_time': 50.19964241981506}\n",
      "{'objects': 100000, 't': 0.0045000000000000005, 'dt': 0.0005, 'run_time': 60.311806201934814}\n",
      "{'objects': 100000, 't': 0.005500000000000001, 'dt': 0.0005, 'run_time': 70.385493516922}\n",
      "{'objects': 100000, 't': 0.006000000000000002, 'dt': 0.0005, 'run_time': 80.4088978767395}\n",
      "{'objects': 100000, 't': 0.007000000000000003, 'dt': 0.0005, 'run_time': 90.44058895111084}\n",
      "{'objects': 100000, 't': 0.007500000000000003, 'dt': 0.0005, 'run_time': 100.45888185501099}\n",
      "{'objects': 100000, 't': 0.008500000000000004, 'dt': 0.0005, 'run_time': 110.48389649391174}\n",
      "{'objects': 100000, 't': 0.009000000000000005, 'dt': 0.0005, 'run_time': 120.49608111381531}\n",
      "{'objects': 100000, 't': 0.010000000000000005, 'dt': 0.0005, 'run_time': 130.55679631233215}\n",
      "{'objects': 100000, 't': 0.010500000000000006, 'dt': 0.0005, 'run_time': 140.59254789352417}\n",
      "{'objects': 100000, 't': 0.011500000000000007, 'dt': 0.0005, 'run_time': 150.61596632003784}\n",
      "{'objects': 100000, 't': 0.012000000000000007, 'dt': 0.0005, 'run_time': 160.62836337089539}\n",
      "{'objects': 100000, 't': 0.013000000000000008, 'dt': 0.0005, 'run_time': 170.64061546325684}\n",
      "{'objects': 100000, 't': 0.013500000000000009, 'dt': 0.0005, 'run_time': 180.68761277198792}\n",
      "{'objects': 100000, 't': 0.01450000000000001, 'dt': 0.0005, 'run_time': 190.71665406227112}\n",
      "{'objects': 100000, 't': 0.01500000000000001, 'dt': 0.0005, 'run_time': 200.77413630485535}\n",
      "{'objects': 100000, 't': 0.01600000000000001, 'dt': 0.0005, 'run_time': 210.78677368164062}\n",
      "{'objects': 100000, 't': 0.01650000000000001, 'dt': 0.0005, 'run_time': 220.79801774024963}\n",
      "{'objects': 100000, 't': 0.017500000000000012, 'dt': 0.0005, 'run_time': 230.84571313858032}\n",
      "{'objects': 100000, 't': 0.018000000000000013, 'dt': 0.0005, 'run_time': 240.8940668106079}\n",
      "{'objects': 100000, 't': 0.018500000000000013, 'dt': 0.0005, 'run_time': 250.90062832832336}\n",
      "{'objects': 100000, 't': 0.019500000000000014, 'dt': 0.0005, 'run_time': 260.9144425392151}\n",
      "{'objects': 100000, 't': 0.020000000000000014, 'dt': 0.0005, 'run_time': 270.96288895606995}\n",
      "{'objects': 100000, 't': 0.021000000000000015, 'dt': 0.0005, 'run_time': 280.9756851196289}\n",
      "{'objects': 100000, 't': 0.021500000000000016, 'dt': 0.0005, 'run_time': 291.03487968444824}\n",
      "{'objects': 100000, 't': 0.022500000000000017, 'dt': 0.0005, 'run_time': 301.0478208065033}\n",
      "{'objects': 100000, 't': 0.023000000000000017, 'dt': 0.0005, 'run_time': 311.0665121078491}\n",
      "{'objects': 100000, 't': 0.023500000000000017, 'dt': 0.0005, 'run_time': 321.07444167137146}\n",
      "{'objects': 100000, 't': 0.02450000000000002, 'dt': 0.0005, 'run_time': 331.08240699768066}\n",
      "{'objects': 100000, 't': 0.02500000000000002, 'dt': 0.0005, 'run_time': 341.11257433891296}\n",
      "{'objects': 100000, 't': 0.02600000000000002, 'dt': 0.0005, 'run_time': 351.1433882713318}\n",
      "{'objects': 100000, 't': 0.02650000000000002, 'dt': 0.0005, 'run_time': 361.18012166023254}\n",
      "{'objects': 100000, 't': 0.02750000000000002, 'dt': 0.0005, 'run_time': 371.24044275283813}\n",
      "{'objects': 100000, 't': 0.02800000000000002, 'dt': 0.0005, 'run_time': 381.27677869796753}\n",
      "{'objects': 100000, 't': 0.029000000000000022, 'dt': 0.0005, 'run_time': 391.33686566352844}\n",
      "{'objects': 100000, 't': 0.029500000000000023, 'dt': 0.0005, 'run_time': 401.38579773902893}\n",
      "{'objects': 100000, 't': 0.030000000000000023, 'dt': 0.0005, 'run_time': 411.4321358203888}\n",
      "{'objects': 100000, 't': 0.031000000000000024, 'dt': 0.0005, 'run_time': 421.443541765213}\n",
      "{'objects': 100000, 't': 0.03200000000000002, 'dt': 0.0005, 'run_time': 431.4864296913147}\n",
      "{'objects': 100000, 't': 0.03250000000000002, 'dt': 0.0005, 'run_time': 441.4992952346802}\n",
      "{'objects': 100000, 't': 0.03300000000000002, 'dt': 0.0005, 'run_time': 451.6655833721161}\n",
      "{'objects': 100000, 't': 0.03400000000000002, 'dt': 0.0005, 'run_time': 461.71584367752075}\n",
      "{'objects': 100000, 't': 0.035000000000000024, 'dt': 0.0005, 'run_time': 471.75186824798584}\n",
      "{'objects': 100000, 't': 0.035500000000000025, 'dt': 0.0005, 'run_time': 481.77068042755127}\n",
      "{'objects': 100000, 't': 0.036500000000000025, 'dt': 0.0005, 'run_time': 491.78235816955566}\n",
      "{'objects': 100000, 't': 0.037000000000000026, 'dt': 0.0005, 'run_time': 501.80069041252136}\n",
      "{'objects': 100000, 't': 0.03800000000000003, 'dt': 0.0005, 'run_time': 511.81885409355164}\n",
      "{'objects': 100000, 't': 0.03850000000000003, 'dt': 0.0005, 'run_time': 521.8666863441467}\n",
      "{'objects': 100000, 't': 0.03950000000000003, 'dt': 0.0005, 'run_time': 531.8788032531738}\n",
      "{'objects': 100000, 't': 0.04000000000000003, 'dt': 0.0005, 'run_time': 541.8911373615265}\n",
      "{'objects': 100000, 't': 0.04100000000000003, 'dt': 0.0005, 'run_time': 551.9392728805542}\n",
      "{'objects': 100000, 't': 0.04150000000000003, 'dt': 0.0005, 'run_time': 561.9503152370453}\n",
      "{'objects': 100000, 't': 0.04250000000000003, 'dt': 0.0005, 'run_time': 571.9810216426849}\n",
      "{'objects': 100000, 't': 0.04300000000000003, 'dt': 0.0005, 'run_time': 581.9933197498322}\n",
      "{'objects': 100000, 't': 0.04400000000000003, 'dt': 0.0005, 'run_time': 592.0062439441681}\n",
      "{'objects': 100000, 't': 0.04450000000000003, 'dt': 0.0005, 'run_time': 602.0312793254852}\n",
      "{'objects': 100000, 't': 0.045500000000000033, 'dt': 0.0005, 'run_time': 612.0381858348846}\n",
      "{'objects': 100000, 't': 0.046000000000000034, 'dt': 0.0005, 'run_time': 622.2683129310608}\n",
      "{'objects': 100000, 't': 0.047000000000000035, 'dt': 0.0005, 'run_time': 632.2772018909454}\n",
      "{'objects': 100000, 't': 0.047500000000000035, 'dt': 0.0005, 'run_time': 642.3293123245239}\n",
      "{'objects': 100000, 't': 0.048500000000000036, 'dt': 0.0005, 'run_time': 652.4117419719696}\n",
      "{'objects': 100000, 't': 0.04950000000000004, 'dt': 0.0005, 'run_time': 662.440744638443}\n",
      "{'objects': 100000, 't': 0.05000000000000004, 'dt': 0.0005, 'run_time': 672.4700574874878}\n",
      "{'objects': 100000, 't': 0.05100000000000004, 'dt': 0.0005, 'run_time': 682.4817416667938}\n",
      "{'objects': 100000, 't': 0.05150000000000004, 'dt': 0.0005, 'run_time': 692.4999463558197}\n",
      "{'objects': 100000, 't': 0.05250000000000004, 'dt': 0.0005, 'run_time': 702.5189001560211}\n",
      "{'objects': 100000, 't': 0.05300000000000004, 'dt': 0.0005, 'run_time': 712.5479991436005}\n",
      "{'objects': 100000, 't': 0.05400000000000004, 'dt': 0.0005, 'run_time': 722.5599091053009}\n",
      "{'objects': 100000, 't': 0.05450000000000004, 'dt': 0.0005, 'run_time': 732.5967304706573}\n",
      "{'objects': 100000, 't': 0.05550000000000004, 'dt': 0.0005, 'run_time': 742.6088380813599}\n",
      "{'objects': 100000, 't': 0.05600000000000004, 'dt': 0.0005, 'run_time': 752.6207971572876}\n",
      "{'objects': 100000, 't': 0.057000000000000044, 'dt': 0.0005, 'run_time': 762.633154630661}\n",
      "{'objects': 100000, 't': 0.057500000000000044, 'dt': 0.0005, 'run_time': 772.664098739624}\n",
      "{'objects': 100000, 't': 0.058500000000000045, 'dt': 0.0005, 'run_time': 782.6827237606049}\n",
      "{'objects': 100000, 't': 0.059000000000000045, 'dt': 0.0005, 'run_time': 792.7007656097412}\n",
      "{'objects': 100000, 't': 0.060000000000000046, 'dt': 0.0005, 'run_time': 802.7132759094238}\n",
      "{'objects': 100000, 't': 0.06050000000000005, 'dt': 0.0005, 'run_time': 812.7368850708008}\n",
      "{'objects': 100000, 't': 0.06150000000000005, 'dt': 0.0005, 'run_time': 822.7498152256012}\n",
      "{'objects': 100000, 't': 0.06200000000000005, 'dt': 0.0005, 'run_time': 832.7741296291351}\n",
      "{'objects': 100000, 't': 0.06300000000000004, 'dt': 0.0005, 'run_time': 842.786217212677}\n",
      "{'objects': 100000, 't': 0.06350000000000004, 'dt': 0.0005, 'run_time': 852.8152348995209}\n",
      "{'objects': 100000, 't': 0.06450000000000004, 'dt': 0.0005, 'run_time': 862.8278286457062}\n",
      "{'objects': 100000, 't': 0.06500000000000004, 'dt': 0.0005, 'run_time': 872.8709540367126}\n",
      "{'objects': 100000, 't': 0.06600000000000004, 'dt': 0.0005, 'run_time': 882.9031801223755}\n",
      "{'objects': 100000, 't': 0.06650000000000005, 'dt': 0.0005, 'run_time': 892.9811644554138}\n",
      "{'objects': 100000, 't': 0.06750000000000005, 'dt': 0.0005, 'run_time': 903.0459260940552}\n",
      "{'objects': 100000, 't': 0.06800000000000005, 'dt': 0.0005, 'run_time': 913.1017723083496}\n"
     ]
    },
    {
     "name": "stdout",
     "output_type": "stream",
     "text": [
      "{'objects': 100000, 't': 0.06900000000000005, 'dt': 0.0005, 'run_time': 923.1079823970795}\n",
      "{'objects': 100000, 't': 0.07000000000000005, 'dt': 0.0005, 'run_time': 933.119179725647}\n",
      "{'objects': 100000, 't': 0.07050000000000005, 'dt': 0.0005, 'run_time': 943.1488981246948}\n",
      "{'objects': 100000, 't': 0.07150000000000005, 'dt': 0.0005, 'run_time': 953.1668436527252}\n",
      "{'objects': 100000, 't': 0.07200000000000005, 'dt': 0.0005, 'run_time': 963.18434882164}\n",
      "{'objects': 100000, 't': 0.07300000000000005, 'dt': 0.0005, 'run_time': 973.2305610179901}\n",
      "{'objects': 100000, 't': 0.07350000000000005, 'dt': 0.0005, 'run_time': 983.2909123897552}\n",
      "{'objects': 100000, 't': 0.07450000000000005, 'dt': 0.0005, 'run_time': 993.3023638725281}\n",
      "{'objects': 100000, 't': 0.07500000000000005, 'dt': 0.0005, 'run_time': 1003.3620355129242}\n",
      "{'objects': 100000, 't': 0.07600000000000005, 'dt': 0.0005, 'run_time': 1013.3749160766602}\n",
      "{'objects': 100000, 't': 0.07650000000000005, 'dt': 0.0005, 'run_time': 1023.3872933387756}\n",
      "{'objects': 100000, 't': 0.07750000000000005, 'dt': 0.0005, 'run_time': 1033.404631614685}\n",
      "{'objects': 100000, 't': 0.07800000000000006, 'dt': 0.0005, 'run_time': 1043.4404084682465}\n",
      "{'objects': 100000, 't': 0.07900000000000006, 'dt': 0.0005, 'run_time': 1053.4533264636993}\n",
      "{'objects': 100000, 't': 0.07950000000000006, 'dt': 0.0005, 'run_time': 1063.4888770580292}\n",
      "{'objects': 100000, 't': 0.08050000000000006, 'dt': 0.0005, 'run_time': 1073.5333828926086}\n",
      "{'objects': 100000, 't': 0.08100000000000006, 'dt': 0.0005, 'run_time': 1083.5811104774475}\n",
      "{'objects': 100000, 't': 0.08200000000000006, 'dt': 0.0005, 'run_time': 1093.6108729839325}\n",
      "{'objects': 100000, 't': 0.08250000000000006, 'dt': 0.0005, 'run_time': 1103.6582810878754}\n",
      "{'objects': 100000, 't': 0.08350000000000006, 'dt': 0.0005, 'run_time': 1113.6709551811218}\n",
      "{'objects': 100000, 't': 0.08400000000000006, 'dt': 0.0005, 'run_time': 1123.682233095169}\n",
      "{'objects': 100000, 't': 0.08500000000000006, 'dt': 0.0005, 'run_time': 1133.712355852127}\n",
      "{'objects': 100000, 't': 0.08550000000000006, 'dt': 0.0005, 'run_time': 1143.7464592456818}\n",
      "{'objects': 100000, 't': 0.08650000000000006, 'dt': 0.0005, 'run_time': 1153.7768907546997}\n",
      "{'objects': 100000, 't': 0.08700000000000006, 'dt': 0.0005, 'run_time': 1163.7953398227692}\n",
      "{'objects': 100000, 't': 0.08800000000000006, 'dt': 0.0005, 'run_time': 1173.8489701747894}\n",
      "{'objects': 100000, 't': 0.08850000000000006, 'dt': 0.0005, 'run_time': 1183.8613541126251}\n",
      "{'objects': 100000, 't': 0.08950000000000007, 'dt': 0.0005, 'run_time': 1193.8726844787598}\n",
      "{'objects': 100000, 't': 0.09000000000000007, 'dt': 0.0005, 'run_time': 1203.8947722911835}\n",
      "{'objects': 100000, 't': 0.09100000000000007, 'dt': 0.0005, 'run_time': 1213.9069681167603}\n",
      "{'objects': 100000, 't': 0.09150000000000007, 'dt': 0.0005, 'run_time': 1223.9195194244385}\n",
      "{'objects': 100000, 't': 0.09200000000000007, 'dt': 0.0005, 'run_time': 1233.9325032234192}\n",
      "{'objects': 100000, 't': 0.09300000000000007, 'dt': 0.0005, 'run_time': 1242.7263448238373}\n",
      "{'objects': 100000, 't': 0.09350000000000007, 'dt': 0.0005, 'run_time': 1252.7392094135284}\n",
      "{'objects': 100000, 't': 0.09450000000000007, 'dt': 0.0005, 'run_time': 1262.751413822174}\n",
      "{'objects': 100000, 't': 0.09500000000000007, 'dt': 0.0005, 'run_time': 1272.8123712539673}\n",
      "{'objects': 100000, 't': 0.09600000000000007, 'dt': 0.0005, 'run_time': 1282.8598234653473}\n",
      "{'objects': 100000, 't': 0.09650000000000007, 'dt': 0.0005, 'run_time': 1292.8780887126923}\n",
      "{'objects': 100000, 't': 0.09700000000000007, 'dt': 0.0005, 'run_time': 1302.927452325821}\n",
      "{'objects': 100000, 't': 0.09800000000000007, 'dt': 0.0005, 'run_time': 1313.103922843933}\n",
      "{'objects': 100000, 't': 0.09850000000000007, 'dt': 0.0005, 'run_time': 1323.2383494377136}\n",
      "{'objects': 100000, 't': 0.09950000000000007, 'dt': 0.0005, 'run_time': 1333.2934775352478}\n",
      "{'objects': 100000, 't': 0.10000000000000007, 'dt': 0.0005, 'run_time': 1343.32621884346}\n",
      "{'objects': 100000, 't': 0.10000000000000007, 'dt': 0.0005, 'run_time': 1353.355310201645}\n"
     ]
    }
   ],
   "source": [
    "import time\n",
    "sim.start()\n",
    "\n",
    "while sim.running:\n",
    "    time.sleep(10)\n",
    "    print(sim.get_state())"
   ]
  },
  {
   "cell_type": "markdown",
   "metadata": {},
   "source": [
    "Below are two histograms representing the scenario. The first one shows what distribution of photons we used. The next histogram represents the number of scatterings that occurred for each wavelength bin. As can be seen, the number of scatterings that occurs for a given wavelength increases dramatically, as the probability function for scattering, $P(coll) = \\frac{A_0 \\cdot n \\cdot ||\\Delta x||}{\\lambda^4}$, would indicate."
   ]
  },
  {
   "cell_type": "code",
   "execution_count": 6,
   "metadata": {},
   "outputs": [
    {
     "data": {
      "text/plain": [
       "Text(0, 0.5, 'Frequency')"
      ]
     },
     "execution_count": 6,
     "metadata": {},
     "output_type": "execute_result"
    },
    {
     "data": {
      "image/png": "[encoded data removed]",
      "text/plain": [
       "<Figure size 432x288 with 1 Axes>"
      ]
     },
     "metadata": {
      "needs_background": "light"
     },
     "output_type": "display_data"
    }
   ],
   "source": [
    "xy = []\n",
    "for z in sim.steps[3].data[1:]:\n",
    "    r = [phys.light.wavelength_from_E(np.double(z[0])) / 10 ** -9] * z[1]\n",
    "    xy.extend(r)\n",
    "x = [np.double(z[0]) for z in sim.steps[3].data[1:]]\n",
    "y = [np.double(z[1]) for z in sim.steps[3].data[1:]]\n",
    "plt.hist(x)\n",
    "plt.title(\"Frequency of Photons\")\n",
    "plt.xlabel(\"$E_\\gamma$ (J)\")\n",
    "plt.ylabel(\"Frequency\")"
   ]
  },
  {
   "cell_type": "code",
   "execution_count": 7,
   "metadata": {
    "scrolled": true
   },
   "outputs": [
    {
     "data": {
      "text/plain": [
       "Text(0.5, 1.0, 'Frequency of Scattering as a Result of $\\\\lambda$')"
      ]
     },
     "execution_count": 7,
     "metadata": {},
     "output_type": "execute_result"
    },
    {
     "data": {
      "image/png": "[encoded data removed]",
      "text/plain": [
       "<Figure size 432x288 with 1 Axes>"
      ]
     },
     "metadata": {
      "needs_background": "light"
     },
     "output_type": "display_data"
    }
   ],
   "source": [
    "plt.hist(xy, 100)\n",
    "plt.xlabel(\"$\\lambda$ (nm)\")\n",
    "plt.ylabel(\"Frequency of Scattering\")\n",
    "plt.title(\"Frequency of Scattering as a Result of $\\lambda$\")"
   ]
  },
  {
   "cell_type": "code",
   "execution_count": null,
   "metadata": {},
   "outputs": [],
   "source": []
  }
 ],
 "metadata": {
  "kernelspec": {
   "display_name": "Python 3",
   "language": "python",
   "name": "python3"
  },
  "language_info": {
   "codemirror_mode": {
    "name": "ipython",
    "version": 3
   },
   "file_extension": ".py",
   "mimetype": "text/x-python",
   "name": "python",
   "nbconvert_exporter": "python",
   "pygments_lexer": "ipython3",
   "version": "3.7.2"
  }
 },
 "nbformat": 4,
 "nbformat_minor": 2
}
